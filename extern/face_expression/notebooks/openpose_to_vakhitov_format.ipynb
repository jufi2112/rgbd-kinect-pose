{
 "cells": [
  {
   "cell_type": "code",
   "execution_count": 1,
   "metadata": {},
   "outputs": [],
   "source": [
    "import os\n",
    "from tqdm import tqdm\n",
    "import json\n",
    "import numpy as np"
   ]
  },
  {
   "cell_type": "code",
   "execution_count": 2,
   "metadata": {},
   "outputs": [],
   "source": [
    "op_root = \"/Vol1/dbstore/datasets/k.iskakov/azure_people_test/openpose\"\n",
    "new_op_root = \"/Vol1/dbstore/datasets/k.iskakov/azure_people_test/openpose_vakhitov_format\""
   ]
  },
  {
   "cell_type": "code",
   "execution_count": 3,
   "metadata": {},
   "outputs": [
    {
     "name": "stderr",
     "output_type": "stream",
     "text": [
      "100%|██████████| 4/4 [00:12<00:00,  3.20s/it]\n"
     ]
    }
   ],
   "source": [
    "subject_ids = sorted(os.listdir(op_root))\n",
    "for subject_id in tqdm(subject_ids):\n",
    "    camera_ids = sorted(os.listdir(os.path.join(op_root, subject_id)))\n",
    "    for camera_id in camera_ids:\n",
    "        op_dir = os.path.join(op_root, subject_id, camera_id)\n",
    "        \n",
    "        op_dict = dict()\n",
    "        keypoint_names = sorted(os.listdir(op_dir))\n",
    "        for keypoint_name in keypoint_names:\n",
    "            with open(os.path.join(op_dir, keypoint_name)) as f:\n",
    "                op = json.load(f)\n",
    "                \n",
    "            n_persons = len(op['people'])\n",
    "            if n_persons == 0:\n",
    "                continue\n",
    "\n",
    "            body = np.concatenate([op['people'][i]['pose_keypoints_2d'] for i in range(n_persons)], axis=0).reshape(n_persons, -1, 3)\n",
    "            face = np.concatenate([op['people'][i]['face_keypoints_2d'] for i in range(n_persons)], axis=0).reshape(n_persons, -1, 3)\n",
    "            left_hand = np.concatenate([op['people'][i]['hand_left_keypoints_2d'] for i in range(n_persons)], axis=0).reshape(n_persons, -1, 3)\n",
    "            right_hand = np.concatenate([op['people'][i]['hand_right_keypoints_2d'] for i in range(n_persons)], axis=0).reshape(n_persons, -1, 3)\n",
    "\n",
    "            item = {\n",
    "                'body': body.tolist(),\n",
    "                'face': face.tolist(),\n",
    "                'left_hand': left_hand.tolist(),\n",
    "                'right_hand': right_hand.tolist()\n",
    "            }\n",
    "            \n",
    "            op_dict[keypoint_name.replace('_keypoints.json', '')] = item\n",
    "        \n",
    "        save_dir = os.path.join(new_op_root, subject_id, camera_id)\n",
    "        os.makedirs(save_dir, exist_ok=True)\n",
    "        \n",
    "        save_path = os.path.join(save_dir, \"openpose.json\")\n",
    "        with open(save_path, 'w') as f:\n",
    "            json.dump(op_dict, f)"
   ]
  }
 ],
 "metadata": {
  "kernelspec": {
   "display_name": "base",
   "language": "python",
   "name": "base"
  },
  "language_info": {
   "codemirror_mode": {
    "name": "ipython",
    "version": 3
   },
   "file_extension": ".py",
   "mimetype": "text/x-python",
   "name": "python",
   "nbconvert_exporter": "python",
   "pygments_lexer": "ipython3",
   "version": "3.7.6"
  }
 },
 "nbformat": 4,
 "nbformat_minor": 2
}
