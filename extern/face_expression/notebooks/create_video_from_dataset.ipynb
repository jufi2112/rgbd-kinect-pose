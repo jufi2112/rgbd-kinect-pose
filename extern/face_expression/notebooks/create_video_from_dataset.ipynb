{
 "cells": [
  {
   "cell_type": "code",
   "execution_count": null,
   "metadata": {},
   "outputs": [],
   "source": [
    "%load_ext autoreload\n",
    "%autoreload 2"
   ]
  },
  {
   "cell_type": "code",
   "execution_count": null,
   "metadata": {},
   "outputs": [],
   "source": [
    "import os\n",
    "import sys\n",
    "import shutil\n",
    "import subprocess\n",
    "import pydoc\n",
    "from tqdm.notebook import tqdm\n",
    "\n",
    "from omegaconf import OmegaConf\n",
    "import hydra.experimental\n",
    "\n",
    "import cv2\n",
    "import numpy as np\n",
    "\n",
    "import torch\n",
    "from torch import nn\n",
    "\n",
    "%matplotlib inline\n",
    "from matplotlib import pylab as plt\n",
    "\n",
    "# sys.path.append(\"..\")\n",
    "import face_expression\n",
    "from face_expression import utils"
   ]
  },
  {
   "cell_type": "code",
   "execution_count": null,
   "metadata": {},
   "outputs": [],
   "source": [
    "USE_DEFAULT_CONFIG = False"
   ]
  },
  {
   "cell_type": "code",
   "execution_count": null,
   "metadata": {},
   "outputs": [],
   "source": [
    "if USE_DEFAULT_CONFIG:\n",
    "    with hydra.experimental.initialize(config_path=\"../face_expression/config\"):\n",
    "        config = hydra.experimental.compose(config_name=\"config\")\n",
    "        OmegaConf.set_struct(config, False)  # allow adding new fields\n",
    "        \n",
    "    checkpoint_path = None\n",
    "else:\n",
    "    project_dir = \"/Vol1/dbstore/datasets/k.iskakov/projects/face_expression\"\n",
    "\n",
    "    # run_name = \"run-20200910_120005-2icqhqix\" # siamese_mediapipe_2d\n",
    "    # run_name = \"run-20200910_142958-27s0s7pi\" # siamese_dropout\n",
    "    # run_name = \"run-20200911_003858-1zs8eycn\" # siamese_jaw_pose.weight-5.0\n",
    "    # run_name = \"run-20200911_005939-vwlb8xjz\" # siamese_small\n",
    "\n",
    "    # run_name = \"run-20200915_200519-nitmitct\" # siamese_bbox_filter\n",
    "\n",
    "    # run_name = \"run-20200916_182119-3khcgm0a\"  # siamese_normalize_area-False_jaw_pose_weight-10.0\n",
    "    # run_name = \"run-20200916_212159-2kfaqcv4\" # siamese_keypoint_l2_normalize_area-False\n",
    "    # run_name = \"run-20200917_122110-1qk66uzu\" # siamese+keypoint_l2_loss+normalize-image_shape\n",
    "    \n",
    "#     run_name = \"run-20200917_181208-g15oyjuo\" # siamese+mediapipe_normalization\n",
    "#     run_name = \"run-20200917_181214-2p2mcq7o\" # siamese+mediapipe_normalization+expression_weight-10\n",
    "#     run_name = \"run-20200917_181220-23sm1rck\"  # siamese+mediapipe_normalization+use_beta-false\n",
    "#     run_name = \"run-20200917_182953-kr90pwk6\"  # siamese+mediapipe_normalization+no_keypoint_l2_loss\n",
    "\n",
    "#     run_name = \"run-20200921_140154-2u0labuw\"  # siamese+keypoints_3d\n",
    "\n",
    "#     run_name = \"run-20200923_190202-3lf0gggu\"  # siamese+keypoints_3d\n",
    "#     run_name = \"run-20200923_185641-256g37gk\"  # siamese+mouth\n",
    "#     run_name = \"run-20200923_180309-2vciol9p\"  # siamese+keypoints_3d_loss+expression_loss\n",
    "#     run_name = \"run-20200923_180225-3kupdul7\"  # siamese+keypoints_3d_loss\n",
    "\n",
    "    run_name = \"run-20200924_184732-2pugva9j\" # siamese+mouth+keypoints_3d_loss+expression_loss\n",
    "    \n",
    "    experiment_dir = os.path.join(project_dir, \"wandb\", run_name)\n",
    "\n",
    "    # checkpoint\n",
    "    checkpoint_path = utils.common.get_lastest_checkpoint(os.path.join(experiment_dir, \"checkpoints\"))\n",
    "    checkpoint_name = os.path.basename(checkpoint_path)\n",
    "    print(f\"Checkpoint: {os.path.basename(checkpoint_path)}\")\n",
    "\n",
    "    # load config\n",
    "    config_path = os.path.join(experiment_dir, \"config.yaml\")\n",
    "    with open(config_path) as f:\n",
    "        config = OmegaConf.load(f)"
   ]
  },
  {
   "cell_type": "code",
   "execution_count": null,
   "metadata": {},
   "outputs": [],
   "source": [
    "print(f\"checkpoint_path = {checkpoint_path}\")\n",
    "print(f\"config_path = {config_path}\")"
   ]
  },
  {
   "cell_type": "code",
   "execution_count": null,
   "metadata": {},
   "outputs": [],
   "source": [
    "# runner\n",
    "runner_cls = pydoc.locate(config.runner.cls)\n",
    "runner = runner_cls(config)\n",
    "runner = runner.to(config.device)\n",
    "\n",
    "if checkpoint_path is not None:\n",
    "    state_dict = torch.load(checkpoint_path)\n",
    "    runner.load_state_dict(state_dict)\n",
    "\n",
    "runner.eval();"
   ]
  },
  {
   "cell_type": "code",
   "execution_count": null,
   "metadata": {},
   "outputs": [],
   "source": [
    "from face_expression.utils.misc import get_dataloaders\n",
    "\n",
    "# load azure_people_test dataset\n",
    "azure_people_test_data_config_path = \"../face_expression/config/data/azure_people_test.yaml\"\n",
    "with open(azure_people_test_data_config_path) as f:\n",
    "    azure_people_test_data_config = OmegaConf.load(f)\n",
    "    \n",
    "config.data.test = azure_people_test_data_config.data.test\n",
    "\n",
    "modes = ('train', 'val')\n",
    "# modes = ('train', 'val', 'test')\n",
    "# modes = ('test',)\n",
    "for mode in modes:\n",
    "    config.data[mode].dataloader.args.batch_size = 128\n",
    "    config.data[mode].dataloader.args.num_workers = 2\n",
    "    config.data[mode].dataloader.args.shuffle = False\n",
    "    \n",
    "    config.data[mode].dataset.args.sample_range = [1500, float('+inf'), 1]\n",
    "\n",
    "dataloaders = get_dataloaders(config, splits=modes)\n",
    "# dataloader = dataloaders['train']\n",
    "dataloader = dataloaders['val']\n",
    "# dataloader = dataloaders['test']"
   ]
  },
  {
   "cell_type": "code",
   "execution_count": null,
   "metadata": {},
   "outputs": [],
   "source": [
    "if not USE_DEFAULT_CONFIG:\n",
    "    # setup dirs for result\n",
    "    root_result_dir = os.path.join(config.log.project_dir, \"artifacts\", \"triple_video\")\n",
    "\n",
    "    result_dir = os.path.join(root_result_dir, config.log.experiment_name)\n",
    "    frame_dir = os.path.join(result_dir, f\"frames#{config.log.experiment_name}#{checkpoint_name}\")\n",
    "    output_video_path = os.path.join(result_dir, f\"video#{config.log.experiment_name}#{checkpoint_name}.mp4\")\n",
    "\n",
    "    shutil.rmtree(frame_dir, ignore_errors=True)\n",
    "    shutil.rmtree(output_video_path, ignore_errors=True)\n",
    "    os.makedirs(result_dir, exist_ok=True)\n",
    "    os.makedirs(frame_dir, exist_ok=True)"
   ]
  },
  {
   "cell_type": "code",
   "execution_count": null,
   "metadata": {
    "scrolled": true
   },
   "outputs": [],
   "source": [
    "n_batches = 10\n",
    "# n_batches = float('+inf')\n",
    "count = 0\n",
    "for i, input_dict in tqdm(enumerate(dataloader), total=min(n_batches, len(dataloader))):\n",
    "    with torch.no_grad():\n",
    "        input_dict = utils.common.dict2device(input_dict, config.device, dtype=torch.float32)\n",
    "        if i >= n_batches:\n",
    "            break\n",
    "        \n",
    "        output_dict = runner.forward(input_dict)\n",
    "        \n",
    "#         keypoints_3d_pred, _, _ = utils.misc.infer_smplx(\n",
    "#             runner.smplx_model, output_dict['expression_pred'], output_dict['pose_pred'], input_dict['beta']\n",
    "#         )\n",
    "#         keypoints_2d_pred = utils.misc.project_keypoints_3d(keypoints_3d_pred, input_dict['projection_matrix'])\n",
    "\n",
    "        \n",
    "#         keypoints_3d_target, _, _ = utils.misc.infer_smplx(\n",
    "#             runner.smplx_model, input_dict['expression'], input_dict['pose'], input_dict['beta']\n",
    "#         )\n",
    "#         keypoints_2d_target = utils.misc.project_keypoints_3d(keypoints_3d_target, input_dict['projection_matrix'])\n",
    "        \n",
    "#         keypoints_2d_target = keypoints_2d_target.detach().cpu().numpy()\n",
    "        \n",
    "#         loss = runner.keypoint_3d_l2_criterion(\n",
    "#             keypoints_3d_pred[:, SMPLX_MOUTH_INDICES], keypoints_3d_target[:, SMPLX_MOUTH_INDICES]\n",
    "#         ).item()\n",
    "\n",
    "\n",
    "        expression_pred_norm = np.abs(output_dict['expression_pred'].cpu().numpy()).mean()\n",
    "        expression_norm = np.abs(input_dict['expression'].cpu().numpy()).mean()\n",
    "        print(f\"expression norm: {expression_pred_norm}, {expression_norm}\")\n",
    "        \n",
    "        triple_images = utils.vis.vis_triple_with_smplx(runner.smplx_model, runner.renderer, input_dict, output_dict, float('+inf'), alpha=0.5)\n",
    "\n",
    "        for batch_index, triple_image in enumerate(triple_images):            \n",
    "            image_path = os.path.join(frame_dir, f\"{count:06d}.jpg\")\n",
    "            cv2.imwrite(image_path, cv2.cvtColor(triple_image, cv2.COLOR_BGR2RGB))\n",
    "\n",
    "            if count % 100 == 0:\n",
    "                plt.imshow(triple_image)\n",
    "                plt.show()\n",
    "\n",
    "\n",
    "            count += 1"
   ]
  },
  {
   "cell_type": "code",
   "execution_count": null,
   "metadata": {},
   "outputs": [],
   "source": [
    "cmd = [\n",
    "    \"ffmpeg\",\n",
    "    \"-y\",\n",
    "    \"-framerate\", \"25\",\n",
    "    \"-i\", os.path.join(frame_dir, \"%06d.jpg\"),\n",
    "    \"-c:v\", \"libx264\",\n",
    "    \"-vf\", \"fps=25\",\n",
    "    \"-pix_fmt\", \"yuv420p\",\n",
    "    output_video_path\n",
    "]\n",
    "\n",
    "result = subprocess.run(cmd, stdout=subprocess.PIPE, stderr=subprocess.PIPE)\n",
    "if result.returncode:\n",
    "    raise ValueError(result.stderr.decode(\"utf-8\"))"
   ]
  },
  {
   "cell_type": "code",
   "execution_count": null,
   "metadata": {},
   "outputs": [],
   "source": [
    "print(f\"Output video path:\\n{output_video_path}\")\n",
    "print()\n",
    "print(f\"scp cluster:{output_video_path} ~/face_expression\")"
   ]
  },
  {
   "cell_type": "markdown",
   "metadata": {},
   "source": [
    "---"
   ]
  }
 ],
 "metadata": {
  "kernelspec": {
   "display_name": "Python 3",
   "language": "python",
   "name": "python3"
  },
  "language_info": {
   "codemirror_mode": {
    "name": "ipython",
    "version": 3
   },
   "file_extension": ".py",
   "mimetype": "text/x-python",
   "name": "python",
   "nbconvert_exporter": "python",
   "pygments_lexer": "ipython3",
   "version": "3.7.7"
  }
 },
 "nbformat": 4,
 "nbformat_minor": 4
}
